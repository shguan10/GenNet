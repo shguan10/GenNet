{
 "cells": [
  {
   "cell_type": "code",
   "execution_count": 2,
   "metadata": {},
   "outputs": [],
   "source": [
    "import torch"
   ]
  },
  {
   "cell_type": "code",
   "execution_count": 286,
   "metadata": {},
   "outputs": [],
   "source": [
    "stride = (1, 1)\n",
    "kernel_shape = (3, 3)\n",
    "\n",
    "x = torch.arange(0, 25).float().resize(1,1,5,5).requires_grad_()\n",
    "# ########\n",
    "inch,rows,cols = x.shape[-3:]\n",
    "\n",
    "newr = rows +1 - kernel_shape[0]\n",
    "newc = cols +1 - kernel_shape[1]\n",
    "x0 = x.transpose(-1,-3)"
   ]
  },
  {
   "cell_type": "code",
   "execution_count": 287,
   "metadata": {},
   "outputs": [
    {
     "data": {
      "text/plain": [
       "tensor([[[[ 0.,  1.,  2.,  3.,  4.],\n",
       "          [ 5.,  6.,  7.,  8.,  9.],\n",
       "          [10., 11., 12., 13., 14.],\n",
       "          [15., 16., 17., 18., 19.],\n",
       "          [20., 21., 22., 23., 24.]]]], requires_grad=True)"
      ]
     },
     "execution_count": 287,
     "metadata": {},
     "output_type": "execute_result"
    }
   ],
   "source": [
    "x"
   ]
  },
  {
   "cell_type": "code",
   "execution_count": 288,
   "metadata": {},
   "outputs": [],
   "source": [
    "z1 = x0.unfold(len(x.shape)-2, kernel_shape[1], stride[1])\n",
    "z2 = z1.unfold(len(x.shape)-3,kernel_shape[0],stride[0])\n",
    "y = z2.contiguous().view(*x.shape[:-3],-1,kernel_shape[0]*kernel_shape[1]*inch)"
   ]
  },
  {
   "cell_type": "code",
   "execution_count": 289,
   "metadata": {},
   "outputs": [
    {
     "data": {
      "text/plain": [
       "tensor([[[ 0.,  1.,  2.,  5.,  6.,  7., 10., 11., 12.],\n",
       "         [ 5.,  6.,  7., 10., 11., 12., 15., 16., 17.],\n",
       "         [10., 11., 12., 15., 16., 17., 20., 21., 22.],\n",
       "         [ 1.,  2.,  3.,  6.,  7.,  8., 11., 12., 13.],\n",
       "         [ 6.,  7.,  8., 11., 12., 13., 16., 17., 18.],\n",
       "         [11., 12., 13., 16., 17., 18., 21., 22., 23.],\n",
       "         [ 2.,  3.,  4.,  7.,  8.,  9., 12., 13., 14.],\n",
       "         [ 7.,  8.,  9., 12., 13., 14., 17., 18., 19.],\n",
       "         [12., 13., 14., 17., 18., 19., 22., 23., 24.]]],\n",
       "       grad_fn=<ViewBackward>)"
      ]
     },
     "execution_count": 289,
     "metadata": {},
     "output_type": "execute_result"
    }
   ],
   "source": [
    "y"
   ]
  },
  {
   "cell_type": "code",
   "execution_count": 291,
   "metadata": {},
   "outputs": [
    {
     "data": {
      "text/plain": [
       "tensor([[[ 0.,  5., 10.,  1.,  6., 11.,  2.,  7., 12.],\n",
       "         [ 1.,  6., 11.,  2.,  7., 12.,  3.,  8., 13.],\n",
       "         [ 2.,  7., 12.,  3.,  8., 13.,  4.,  9., 14.],\n",
       "         [ 5., 10., 15.,  6., 11., 16.,  7., 12., 17.],\n",
       "         [ 6., 11., 16.,  7., 12., 17.,  8., 13., 18.],\n",
       "         [ 7., 12., 17.,  8., 13., 18.,  9., 14., 19.],\n",
       "         [10., 15., 20., 11., 16., 21., 12., 17., 22.],\n",
       "         [11., 16., 21., 12., 17., 22., 13., 18., 23.],\n",
       "         [12., 17., 22., 13., 18., 23., 14., 19., 24.]]],\n",
       "       grad_fn=<TransposeBackward0>)"
      ]
     },
     "execution_count": 291,
     "metadata": {},
     "output_type": "execute_result"
    }
   ],
   "source": [
    "y.transpose(-1,-2)"
   ]
  },
  {
   "cell_type": "code",
   "execution_count": 217,
   "metadata": {},
   "outputs": [
    {
     "data": {
      "text/plain": [
       "tensor([[[[1., 2., 3., 2., 1.],\n",
       "          [2., 4., 6., 4., 2.],\n",
       "          [3., 6., 9., 6., 3.],\n",
       "          [2., 4., 6., 4., 2.],\n",
       "          [1., 2., 3., 2., 1.]],\n",
       "\n",
       "         [[1., 2., 3., 2., 1.],\n",
       "          [2., 4., 6., 4., 2.],\n",
       "          [3., 6., 9., 6., 3.],\n",
       "          [2., 4., 6., 4., 2.],\n",
       "          [1., 2., 3., 2., 1.]],\n",
       "\n",
       "         [[1., 2., 3., 2., 1.],\n",
       "          [2., 4., 6., 4., 2.],\n",
       "          [3., 6., 9., 6., 3.],\n",
       "          [2., 4., 6., 4., 2.],\n",
       "          [1., 2., 3., 2., 1.]]]])"
      ]
     },
     "execution_count": 217,
     "metadata": {},
     "output_type": "execute_result"
    }
   ],
   "source": [
    "z = torch.sum(y)\n",
    "z.backward()\n",
    "x.grad"
   ]
  },
  {
   "cell_type": "code",
   "execution_count": 248,
   "metadata": {},
   "outputs": [],
   "source": [
    "from torch import nn\n",
    "import numpy as np\n",
    "class FoldConv2d(nn.Module):\n",
    "  def __init__(self,inch,outch,kshape,stride=1):\n",
    "    nn.Module.__init__(self)\n",
    "    k=1\n",
    "    for j in kshape: k*=j\n",
    "    self.kernel = nn.parameter.Parameter(torch.Tensor(inch*k,outch))\n",
    "    self.kshape = kshape\n",
    "    self.reset_parameters()\n",
    "    \n",
    "  def reset_parameters(self):\n",
    "    torch.nn.init.kaiming_uniform_(self.kernel, a=np.sqrt(5))\n",
    "    \n",
    "  def forward(self,x):\n",
    "    \"\"\"\n",
    "    Assumes x is shape (...,inch,row,col)\n",
    "    and requires grad\n",
    "    \"\"\"\n",
    "    inch,rows,cols = x.shape[-3:]\n",
    "\n",
    "    newr = rows +1 - self.kshape[0]\n",
    "    newc = cols +1 - self.kshape[1]\n",
    "    xshape = x.shape\n",
    "    x = x.transpose(-1,-3)\n",
    "    x = x.unfold(len(xshape)-2, self.kshape[1], stride[1])\n",
    "    x = x.unfold(len(xshape)-3,self.kshape[0],stride[0])\n",
    "    x = x.contiguous().view(*xshape[:-3],newr*newc,-1)\n",
    "    return x @ self.kernel"
   ]
  },
  {
   "cell_type": "code",
   "execution_count": 252,
   "metadata": {},
   "outputs": [
    {
     "data": {
      "text/plain": [
       "tensor([[[ 1.0129e+00,  9.4311e-01,  1.0389e+00,  2.6008e-02,  9.5802e-02],\n",
       "         [ 2.3070e+00,  2.2896e+00,  2.2554e+00, -5.1535e-02, -3.4129e-02],\n",
       "         [ 3.1114e+00,  3.3871e+00,  3.1383e+00,  2.6860e-02, -2.4876e-01],\n",
       "         [ 2.0985e+00,  2.4440e+00,  2.0994e+00,  8.5139e-04, -3.4456e-01],\n",
       "         [ 8.0447e-01,  1.0975e+00,  8.8286e-01,  7.8394e-02, -2.1463e-01]],\n",
       "\n",
       "        [[ 3.3158e-01,  5.4768e-02, -7.7577e-01, -1.1073e+00, -8.3054e-01],\n",
       "         [-5.9559e-01, -1.1398e+00, -2.9244e+00, -2.3288e+00, -1.7846e+00],\n",
       "         [-4.6305e-01, -7.1147e-01, -3.1206e+00, -2.6575e+00, -2.4091e+00],\n",
       "         [-7.9463e-01, -7.6624e-01, -2.3448e+00, -1.5502e+00, -1.5786e+00],\n",
       "         [ 1.3255e-01,  4.2833e-01, -1.9618e-01, -3.2873e-01, -6.2450e-01]],\n",
       "\n",
       "        [[-7.0888e-01, -3.3841e-01,  4.3040e-01,  1.1393e+00,  7.6881e-01],\n",
       "         [-8.5042e-01, -1.6704e-01,  3.2368e-01,  1.1741e+00,  4.9072e-01],\n",
       "         [ 1.5861e-01,  2.5292e-01,  5.8179e-01,  4.2318e-01,  3.2887e-01],\n",
       "         [ 8.6748e-01,  5.9132e-01,  1.5138e-01, -7.1610e-01, -4.3994e-01],\n",
       "         [ 1.0090e+00,  4.1995e-01,  2.5810e-01, -7.5092e-01, -1.6185e-01]]])"
      ]
     },
     "execution_count": 252,
     "metadata": {},
     "output_type": "execute_result"
    }
   ],
   "source": [
    "f = FoldConv2d(3,2,(3,3))\n",
    "# print(f.kernel)\n",
    "x = torch.arange(0, 75).float().resize(3,5,5).requires_grad_()\n",
    "y=f.forward(x)\n",
    "z = torch.sum(y)\n",
    "# print(z,y)\n",
    "z.backward()\n",
    "x.grad"
   ]
  }
 ],
 "metadata": {
  "kernelspec": {
   "display_name": "Python 3",
   "language": "python",
   "name": "python3"
  },
  "language_info": {
   "codemirror_mode": {
    "name": "ipython",
    "version": 3
   },
   "file_extension": ".py",
   "mimetype": "text/x-python",
   "name": "python",
   "nbconvert_exporter": "python",
   "pygments_lexer": "ipython3",
   "version": "3.7.0"
  }
 },
 "nbformat": 4,
 "nbformat_minor": 2
}
